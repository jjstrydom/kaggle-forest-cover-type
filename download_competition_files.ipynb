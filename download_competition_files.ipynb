{
 "cells": [
  {
   "cell_type": "code",
   "execution_count": 1,
   "id": "efff8719",
   "metadata": {},
   "outputs": [],
   "source": [
    "from kaggle.api.kaggle_api_extended import KaggleApi\n",
    "from zipfile import ZipFile"
   ]
  },
  {
   "cell_type": "code",
   "execution_count": 2,
   "id": "3870bc02",
   "metadata": {},
   "outputs": [],
   "source": [
    "api = KaggleApi()\n",
    "api.authenticate()"
   ]
  },
  {
   "cell_type": "code",
   "execution_count": 3,
   "id": "26d6eefb",
   "metadata": {},
   "outputs": [
    {
     "data": {
      "text/plain": [
       "[forest-cover-type-prediction,\n",
       " forest-cover-type-kernels-only,\n",
       " leaf-classification,\n",
       " rfcx-species-audio-detection]"
      ]
     },
     "execution_count": 3,
     "metadata": {},
     "output_type": "execute_result"
    }
   ],
   "source": [
    "api.competitions_list(search='forest')"
   ]
  },
  {
   "cell_type": "code",
   "execution_count": 4,
   "id": "8f2ec38c",
   "metadata": {},
   "outputs": [
    {
     "data": {
      "text/plain": [
       "[train.csv.zip,\n",
       " sampleSubmission.csv.zip,\n",
       " test.csv,\n",
       " test.csv.zip,\n",
       " train.csv,\n",
       " sampleSubmission.csv,\n",
       " test3.csv]"
      ]
     },
     "execution_count": 4,
     "metadata": {},
     "output_type": "execute_result"
    }
   ],
   "source": [
    "api.competition_list_files('forest-cover-type-prediction')"
   ]
  },
  {
   "cell_type": "code",
   "execution_count": 5,
   "id": "9783bff6",
   "metadata": {},
   "outputs": [
    {
     "name": "stdout",
     "output_type": "stream",
     "text": [
      "train.csv.zip: Skipping, found more recently modified local copy (use --force to force download)\n",
      "test.csv.zip: Skipping, found more recently modified local copy (use --force to force download)\n"
     ]
    }
   ],
   "source": [
    "for f in ['train.csv.zip', 'test.csv.zip', ]:\n",
    "    api.competition_download_file('forest-cover-type-prediction', f)\n",
    "    with ZipFile(f) as zf:\n",
    "        zf.extractall()"
   ]
  }
 ],
 "metadata": {
  "kernelspec": {
   "display_name": "Python 3",
   "language": "python",
   "name": "python3"
  },
  "language_info": {
   "codemirror_mode": {
    "name": "ipython",
    "version": 3
   },
   "file_extension": ".py",
   "mimetype": "text/x-python",
   "name": "python",
   "nbconvert_exporter": "python",
   "pygments_lexer": "ipython3",
   "version": "3.8.5"
  }
 },
 "nbformat": 4,
 "nbformat_minor": 5
}
